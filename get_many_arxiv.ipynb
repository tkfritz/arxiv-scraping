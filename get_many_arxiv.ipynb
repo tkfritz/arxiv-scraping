{
 "cells": [
  {
   "cell_type": "markdown",
   "id": "8439a8eb",
   "metadata": {},
   "source": [
    "# Collecting arxiv abstract information\n",
    "\n",
    "In this notebook I collect arxiv information from the abstract pages. No links are followed, thus no crawling is needed. "
   ]
  },
  {
   "cell_type": "code",
   "execution_count": 1,
   "id": "12ec631a",
   "metadata": {},
   "outputs": [],
   "source": [
    "from  scrapy import Selector\n",
    "import requests\n",
    "import time as time\n",
    "import numpy as np\n"
   ]
  },
  {
   "cell_type": "code",
   "execution_count": 59,
   "id": "ab8b67c1",
   "metadata": {},
   "outputs": [],
   "source": [
    "#function to go trough single one \n",
    "def get_single_abstract(url,silent=False):\n",
    "    check=requests.get(url)\n",
    "    #status exist if 200 or below 400\n",
    "    if check.status_code==200:\n",
    "        #result list which is collects\n",
    "        results=[]\n",
    "        results.append(url[-10:])\n",
    "        print(f\"{url} can be accessed\")\n",
    "        html=check.content\n",
    "        sel=Selector(text=html)\n",
    "        #abstract selection\n",
    "        sel2=sel.xpath('//blockquote//text()')\n",
    "        #extract content\n",
    "        p2=sel2.extract()\n",
    "        #get abstract content replace new line with space \n",
    "        abstract=p2[2].replace('\\n',' ').strip()\n",
    "        if silent==False:\n",
    "            print(abstract)\n",
    "        #get title\n",
    "        sel3=sel.xpath('//*[@class=\"title mathjax\"]//text()')\n",
    "        p3=sel3.extract()\n",
    "        #get title content replace new line with space \n",
    "        title=p3[1].replace('\\n',' ').strip()\n",
    "        results.append(title)\n",
    "        results.append(abstract)        \n",
    "        if silent==False:\n",
    "            print(title)\n",
    "        #select authors\n",
    "        sel4=sel.xpath('//*[@class=\"authors\"]//text()')\n",
    "        p4=sel4.extract()\n",
    "        #get elements which are not authors or comma \n",
    "        authors=[]\n",
    "        for x in p4:\n",
    "            if x!=\"Authors:\" and x!=', ':\n",
    "                authors.append(x.strip())\n",
    "        results.append(len(authors))   \n",
    "        results.append(authors)          \n",
    "        if silent==False:\n",
    "            print(len(authors),authors)\n",
    "        #get comments\n",
    "        sel5=sel.xpath('//*[@class=\"tablecell comments mathjax\"]//text()')\n",
    "        #extract them \n",
    "        if len(sel5)==1:\n",
    "            comments=sel5.extract()[0].strip()\n",
    "        else:\n",
    "            comments=None\n",
    "        if silent==False:\n",
    "            #print them \n",
    "            print(comments)\n",
    "        results.append(comments)              \n",
    "        #subject primary\n",
    "        sel6=sel.xpath('//*[@class=\"primary-subject\"]//text()')\n",
    "        prim_subject=sel6.extract()[0]\n",
    "        results.append(prim_subject)          \n",
    "        if silent==False:\n",
    "            #print them \n",
    "            print(prim_subject)\n",
    "        #all subjects (doubles previous  to be figured with no other how to combine them )\n",
    "        sel7=sel.xpath('//*[@class=\"tablecell subjects\"]//text()')\n",
    "        p7=sel7.extract()\n",
    "        #exclude first is new line second is primary gotten above \n",
    "        if len(p7)==3:\n",
    "            subjects=p7[2].replace(\";\",\"\").replace(\"'\",\"\")\n",
    "            #split them \n",
    "            s_subjects_prel=subjects.split(\")\")\n",
    "            #adds back ) and excludes last one \n",
    "            n_subjects=len(s_subjects_prel)\n",
    "            s_subjects=[]\n",
    "            for i in range(len(s_subjects_prel)-1):\n",
    "                s_subjects.append(s_subjects_prel[i]+\")\")\n",
    "            print(s_subjects)\n",
    "        else:\n",
    "            s_subjects=None\n",
    "            n_subjects=0\n",
    "        results.append(n_subjects)\n",
    "        results.append(s_subjects)           \n",
    "        #should be split by ; when not empty\n",
    "        if silent==False:\n",
    "            print(n_subjects,s_subjects)   \n",
    "        #to add submission time? and size?        \n",
    "        return results\n",
    "    else:\n",
    "        print(f\"{url} cannot be accessed, status is {check.status_code}\")"
   ]
  },
  {
   "cell_type": "code",
   "execution_count": 60,
   "id": "6494124e",
   "metadata": {},
   "outputs": [],
   "source": [
    "urls=['https://arxiv.org/abs/2010.00001','https://arxiv.org/abs/2010.10964','https://arxiv.org/abs/2010.10965','https://arxiv.org/abs/2010.10966','https://arxiv.org/abs/2010.10967']\n",
    "#make them automatic , 404 when obviously not extsing "
   ]
  },
  {
   "cell_type": "code",
   "execution_count": 61,
   "id": "7cb7dd48",
   "metadata": {},
   "outputs": [
    {
     "name": "stdout",
     "output_type": "stream",
     "text": [
      "https://arxiv.org/abs/2010.00001 can be accessed\n",
      "AE Aqr objects are a class of cataclysmic variable stars in which the rapidly rotating magnetosphere of the white dwarf (WD) primary centrifugally expels most infalling gas before it can accrete onto the WD. The expulsion of the accretion flow via this \"magnetic propeller\" extracts angular momentum from the WD and produces large-amplitude, aperiodic flares in optical photometry. The eponymous AE Aqr is the only confirmed member of this class of object, but recently, Thorstensen (2020) discovered a candidate AE Aqr system: LAMOST J024048.51+195226.9. Using survey photometry, we measure a refined orbital period for this system and identify a shallow, previously unrecognized eclipse during which the system's frequent AE Aqr-like flaring episodes cease. A dedicated follow-up study is still necessary to test the proposed AE Aqr classification for LAMOST J024048.51+195226.9, but should it be confirmed, the eclipse of its flare-production region will offer a new means of studying the magnetic propeller phenomenon.\n",
      "Identification of Orbital Eclipses in LAMOST J024048.51+195226.9, a Candidate AE Aqr-type Cataclysmic Variable Star\n",
      "2 ['Colin Littlefield', 'Peter Garnavich']\n",
      "accepted for publication, RNAAS\n",
      "Solar and Stellar Astrophysics (astro-ph.SR)\n",
      "0 None\n",
      "https://arxiv.org/abs/2010.10964 can be accessed\n",
      "The presence of massive stars (MSs) in the region close to the Galactic Center (GC) poses several questions about their origin. The harsh environment of the GC favors specific formation scenarios, each of which should imprint characteristic kinematic features on the MSs. We present a 2D kinematic analysis of MSs in a GC region surrounding Sgr A* based on high-precision proper motions obtained with the Hubble Space Telescope. Thanks to a careful data reduction, well-measured bright stars in our proper-motion catalogs have errors better than 0.5 mas yr$^{-1}$. We discuss the absolute motion of the MSs in the field and their motion relative to Sgr A*, the Arches and the Quintuplet. For the majority of the MSs, we rule out any distance further than 3-4 kpc from Sgr A* using only kinematic arguments. If their membership to the GC is confirmed, most of the isolated MSs are likely not associated with either the Arches or Quintuplet clusters or Sgr A*. Only a few MSs have proper motions suggesting they are likely members of the Arches cluster, in agreement with previous spectroscopic results. Line-of-sight radial velocities and distances are required to shed further light on the origin of most of these massive objects. We also present an analysis of other fast-moving objects in the GC region, finding no clear excess of high-velocity escaping stars. We make our astro-photometric catalogs publicly available.\n",
      "2D kinematics of massive stars near the Galactic Center\n",
      "15 ['Mattia Libralato', 'Daniel J. Lennon', 'Andrea Bellini', 'Roeland van der Marel', 'Simon J. Clark', 'Francisco Najarro', 'Lee R. Patrick', 'Jay Anderson', 'Luigi R. Bedin', 'Paul A. Crowther', 'Selma E. de Mink', 'Christopher J. Evans', 'Imants Platais', 'Elena Sabbi', 'Sangmo Tony Sohn']\n",
      "28 pages, 33 figures, 9 tables. Accepted for publication in MNRAS. [v3: Fixed bibliography]\n",
      "Solar and Stellar Astrophysics (astro-ph.SR)\n",
      "[' Astrophysics of Galaxies (astro-ph.GA)']\n",
      "2 [' Astrophysics of Galaxies (astro-ph.GA)']\n",
      "https://arxiv.org/abs/2010.10965 can be accessed\n",
      "Theoretical study is presented for a spinor Bose-Einstein condensate, whose two components are coupled by copropagating Raman beams with different orbital angular momenta. The investigation is focused on the behavior of the ground state of this condensate, depending on the atom-light coupling strength. By analyzing the ground state, we have identified a number of quantum phases, which reflect the symmetries of the effective Hamiltonian and are characterized by the specific structure of the wave function. In addition to the well-known stripe, polarized and zero-momentum phases, our results show that the system can support phases, whose wave function contains a complex vortex molecule. Such molecule plays an important role in the continuous phase transitions of the system. The predicted behavior of vortex-molecule phases can be examined in cold-atom experiments using currently existing techniques.\n",
      "Symmetry breaking and phase transitions in Bose-Einstein condensates with spin-orbital-angular-momentum coupling\n",
      "3 ['Y. Duan', 'Y. M. Bidasyuk', 'A. Surzhykov']\n",
      "None\n",
      "Quantum Gases (cond-mat.quant-gas)\n",
      "0 None\n",
      "https://arxiv.org/abs/2010.10966 can be accessed\n",
      "Cloud computing is ubiquitous: more and more companies are moving the workloads into the Cloud. However, this rise in popularity challenges Cloud service providers, as they need to monitor the quality of their ever-growing offerings effectively. To address the challenge, we designed and implemented an automated monitoring system for the IBM Cloud Platform. This monitoring system utilizes deep learning neural networks to detect anomalies in near-real-time in multiple Platform components simultaneously.\n",
      "Anomaly Detection in a Large-scale Cloud Platform\n",
      "6 ['Mohammad Saiful Islam', 'William Pourmajidi', 'Lei Zhang', 'John Steinbacher', 'Tony Erwin', 'Andriy Miranskyy']\n",
      "A condensed version to appear in Proceedings of the 43rd International Conference on Software Engineering (ICSE 2021)\n",
      "Distributed, Parallel, and Cluster Computing (cs.DC)\n",
      "[' Machine Learning (cs.LG)', ' Software Engineering (cs.SE)']\n",
      "3 [' Machine Learning (cs.LG)', ' Software Engineering (cs.SE)']\n",
      "https://arxiv.org/abs/2010.10967 can be accessed\n",
      "For mixed-initiative control between cyber-physical systems (CPS) and its users, it is still an open question how machines can safely hand over control to humans. In this work, we propose a concept to provide technological support that uses formal methods from AI -- description logic (DL) and automated planning -- to predict more reliably when a hand-over is necessary, and to increase the advance notice for handovers by planning ahead of runtime. We combine this with methods from human-computer interaction (HCI) and natural language generation (NLG) to develop solutions for safe and smooth handovers and provide an example autonomous driving scenario. A study design is proposed with the assessment of qualitative feedback, cognitive load and trust in automation.\n",
      "Safe Handover in Mixed-Initiative Control for Cyber-Physical Systems\n",
      "10 ['Frederik Wiehr', 'Anke Hirsch', 'Florian Daiber', 'Antonio Kruger', 'Alisa Kovtunova', 'Stefan Borgwardt', 'Ernie Chang', 'Vera Demberg', 'Marcel Steinmetz', 'Hoffmann Jorg']\n",
      "In Proceedings of Workshop at CHI\n",
      "Human-Computer Interaction (cs.HC)\n",
      "0 None\n",
      "5 sites needed 4.131 seconds\n"
     ]
    }
   ],
   "source": [
    "start_time=time.time()\n",
    "for url in urls:\n",
    "    res=get_single_abstract(url)\n",
    "stop_time=time.time()\n",
    "print(f\"{len(urls)} sites needed {np.round(stop_time-start_time,3)} seconds\")"
   ]
  },
  {
   "cell_type": "code",
   "execution_count": 58,
   "id": "dcb035ce",
   "metadata": {},
   "outputs": [
    {
     "name": "stdout",
     "output_type": "stream",
     "text": [
      "['2010.10967', 'Safe Handover in Mixed-Initiative Control for Cyber-Physical Systems', 'For mixed-initiative control between cyber-physical systems (CPS) and its users, it is still an open question how machines can safely hand over control to humans. In this work, we propose a concept to provide technological support that uses formal methods from AI -- description logic (DL) and automated planning -- to predict more reliably when a hand-over is necessary, and to increase the advance notice for handovers by planning ahead of runtime. We combine this with methods from human-computer interaction (HCI) and natural language generation (NLG) to develop solutions for safe and smooth handovers and provide an example autonomous driving scenario. A study design is proposed with the assessment of qualitative feedback, cognitive load and trust in automation.', 10, ['Frederik Wiehr', 'Anke Hirsch', 'Florian Daiber', 'Antonio Kruger', 'Alisa Kovtunova', 'Stefan Borgwardt', 'Ernie Chang', 'Vera Demberg', 'Marcel Steinmetz', 'Hoffmann Jorg'], 'In Proceedings of Workshop at CHI', 'Human-Computer Interaction (cs.HC)', 0, None]\n"
     ]
    }
   ],
   "source": [
    "print(res)"
   ]
  },
  {
   "cell_type": "code",
   "execution_count": null,
   "id": "dcf4449b",
   "metadata": {},
   "outputs": [],
   "source": [
    "#other points not listed authors consideration at least with mark \n",
    "#but the really getting them for many "
   ]
  }
 ],
 "metadata": {
  "kernelspec": {
   "display_name": "Python 3 (ipykernel)",
   "language": "python",
   "name": "python3"
  },
  "language_info": {
   "codemirror_mode": {
    "name": "ipython",
    "version": 3
   },
   "file_extension": ".py",
   "mimetype": "text/x-python",
   "name": "python",
   "nbconvert_exporter": "python",
   "pygments_lexer": "ipython3",
   "version": "3.8.15"
  }
 },
 "nbformat": 4,
 "nbformat_minor": 5
}
